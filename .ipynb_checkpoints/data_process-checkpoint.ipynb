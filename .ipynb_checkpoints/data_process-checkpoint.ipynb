{
 "cells": [
  {
   "cell_type": "code",
   "execution_count": 1,
   "metadata": {},
   "outputs": [
    {
     "name": "stdout",
     "output_type": "stream",
     "text": [
      "CPU times: user 464 ms, sys: 460 ms, total: 924 ms\n",
      "Wall time: 426 ms\n"
     ]
    }
   ],
   "source": [
    "%%time\n",
    "# Name: Mohammed\n",
    "import operator\n",
    "import glob\n",
    "import pandas as pd\n",
    "import matplotlib.pyplot as plt\n",
    "from sklearn import svm\n",
    "import numpy as np\n",
    "from sklearn.model_selection import cross_val_score, train_test_split\n",
    "from mpl_toolkits.mplot3d import Axes3D\n",
    "import itertools\n",
    "from math import ceil\n",
    "from sklearn.metrics import confusion_matrix\n",
    "from sklearn.ensemble import RandomForestClassifier \n",
    "from sklearn.neighbors import KNeighborsClassifier\n",
    "from sklearn import decomposition\n",
    "from scipy.stats import zscore\n",
    "from sklearn.naive_bayes import GaussianNB\n",
    "from sklearn.linear_model import LogisticRegression\n",
    "from sklearn.tree import DecisionTreeClassifier\n",
    "from sklearn.neural_network import MLPClassifier\n",
    "from sklearn.decomposition import PCA\n",
    "from sklearn.svm import SVC\n",
    "import random\n",
    "from collections import Counter\n",
    "\n",
    "def correlate(channel_data1, channel_data2):\n",
    "    x = channel_data1\n",
    "    y = channel_data2\n",
    "    x = MAV_segments(x,10)\n",
    "    y = MAV_segments(y,10)\n",
    "    xc = np.correlate(x, y, mode='full')\n",
    "    xc /= xc[xc.argmax()]\n",
    "    return xc\n",
    "\n",
    "def accuracy(y_pred, y_test):\n",
    "    return 1 - np.linalg.norm(np.array(y_pred) - np.array(y_test),ord = 0)/float(len(y_pred))\n",
    "\n",
    "def relabel(Y):\n",
    "    for i, label_ in enumerate(Y):\n",
    "        if label_ == 0:\n",
    "            if i != 0:\n",
    "                if Y[i-1] == 1:\n",
    "                    Y[i] = 6\n",
    "                if Y[i-1] == 2:\n",
    "                    Y[i] = 7\n",
    "                if Y[i-1] == 3:\n",
    "                    Y[i] = 8\n",
    "                if Y[i-1] == 4:\n",
    "                    Y[i] = 9\n",
    "                if Y[i-1] == 5:\n",
    "                    Y[i] = 10\n",
    "                if Y[i-1] == 0:\n",
    "                    Y[i] = random.choice([6,7,8,9,10])\n",
    "            else:\n",
    "                Y[i] = 10\n",
    "    return Y\n",
    "\n",
    "def load_data(path):\n",
    "    allFiles = glob.glob(path + \"/new_data*.txt\")\n",
    "    frame = pd.DataFrame()\n",
    "    list_ = []\n",
    "    for file_ in allFiles:\n",
    "        df = pd.read_csv(file_,index_col=None, header=0)\n",
    "        list_.append(df)\n",
    "    frame = pd.concat(list_,ignore_index = True)\n",
    "    return frame\n",
    "\n",
    "def plot_confusion_matrix(cm, classes,\n",
    "                          normalize=False,\n",
    "                          title='Confusion matrix',\n",
    "                          cmap=plt.cm.Blues):\n",
    "    \"\"\"\n",
    "    This function prints and plots the confusion matrix.\n",
    "    Normalization can be applied by setting `normalize=True`.\n",
    "    \"\"\"\n",
    "    plt.imshow(cm, interpolation='nearest', cmap=cmap)\n",
    "    plt.title(title)\n",
    "    plt.colorbar()\n",
    "    tick_marks = np.arange(len(classes))\n",
    "    plt.xticks(tick_marks, classes, rotation=45)\n",
    "    plt.yticks(tick_marks, classes)\n",
    "\n",
    "    if normalize:\n",
    "        cm = cm.astype('float') / cm.sum(axis=1)[:, np.newaxis]\n",
    "        print(\"Normalized confusion matrix\")\n",
    "    else:\n",
    "        print('Confusion matrix, without normalization')\n",
    "\n",
    "    print(cm)\n",
    "\n",
    "    thresh = cm.max() / 2.\n",
    "    for i, j in itertools.product(range(cm.shape[0]), range(cm.shape[1])):\n",
    "        plt.text(j, i, cm[i, j],\n",
    "                 horizontalalignment=\"center\",\n",
    "                 color=\"white\" if cm[i, j] > thresh else \"black\")\n",
    "\n",
    "    plt.tight_layout()\n",
    "    plt.ylabel('True label')\n",
    "    plt.xlabel('Predicted label')\n",
    "\n",
    "def TD(channel_data):\n",
    "    features = [MAV(channel_data)] + MAV_segments(channel_data) + diff_MAV(channel_data) + [ZC(channel_data)] +\\\n",
    "    [SSC(channel_data)] + [WL(channel_data)]\n",
    "    return features\n",
    "\n",
    "def MAV(channel_data):\n",
    "    return sum(map(abs,channel_data))/len(channel_data)\n",
    "\n",
    "def segment_window(channel_data, n_segments = 5.):\n",
    "    seg_length = int(ceil(len(channel_data)/n_segments))\n",
    "    segmented_data = [channel_data[x:x+seg_length] for x in range(0,len(channel_data),seg_length)]\n",
    "    return segmented_data\n",
    "\n",
    "def MAV_segments(channel_data, n_segments = 5.):\n",
    "    segmented_data = segment_window(channel_data, n_segments)\n",
    "    return map(MAV,segmented_data)\n",
    "\n",
    "def diff_MAV(channel_data):\n",
    "    segmented_data = segment_window(channel_data)\n",
    "    prev_segments = segmented_data[:-1]\n",
    "    next_segments = segmented_data[1:]\n",
    "    prev_segments_MAV = map(MAV,prev_segments)\n",
    "    next_segments_MAV = map(MAV,next_segments)\n",
    "    return map(operator.sub, next_segments_MAV, prev_segments_MAV)\n",
    "\n",
    "def ZC(channel_data, threshold = 10):\n",
    "    prev_sample = channel_data[:-1]\n",
    "    next_sample = channel_data[1:]\n",
    "    left_side = map(abs,map(operator.sub, next_sample, prev_sample))\n",
    "    right_side = map(abs,map(operator.add, next_sample, prev_sample))\n",
    "    res = map(operator.sub, left_side, right_side)\n",
    "    res = [1 if (x >= 0 and left > threshold) else 0 for x,left in zip(res,left_side)]\n",
    "    return sum(res)/float(len(prev_sample)+1)\n",
    "\n",
    "def SSC(channel_data, threshold = 5):\n",
    "    the_sample = channel_data[1:-1]\n",
    "    prev_sample = channel_data[:-2]\n",
    "    next_sample = channel_data[2:]\n",
    "    res = [1 if ((x > max(x_prev,x_next) or x < min(x_prev,x_next)) and max(abs(x_next - x),abs(x - x_prev)) > threshold)\\\n",
    "           else 0 for x,x_prev,x_next in zip(the_sample,prev_sample,next_sample)]\n",
    "    return sum(res)/float(len(prev_sample)+2)\n",
    "\n",
    "def WL(channel_data):\n",
    "    prev_sample = channel_data[:-1]\n",
    "    next_sample = channel_data[1:]\n",
    "    diff = map(abs,map(operator.sub, next_sample, prev_sample))\n",
    "    return sum(diff)/float(len(prev_sample)+1)\n",
    "    \n",
    "def SPM_features(data,domain,req_freq,width):\n",
    "    new_mag = []\n",
    "    new_angle = []\n",
    "    mag = np.abs(data)\n",
    "    angle = np.angle(data)\n",
    "    for freq in req_freq:\n",
    "        mag_agg = []\n",
    "        angle_agg = []\n",
    "        for i in range(0,len(mag)):\n",
    "            if domain[i] >= (freq - width/2.) and  domain[i] <= (freq + width/2.):\n",
    "                mag_agg.append(mag[i])\n",
    "                angle_agg.append(angle[i])\n",
    "        new_mag.append(sum(mag_agg)/float(len(mag_agg)))\n",
    "        new_angle.append(sum(angle_agg)/float(len(angle_agg)))\n",
    "    return new_mag+new_angle\n",
    "        \n",
    "def SPM(channel_data, freq = 250):\n",
    "    width = 2.\n",
    "    z = np.fft.rfft(channel_data) # FFT\n",
    "    y = np.fft.rfftfreq(len(channel_data), d = 1./freq) # Frequency data\n",
    "    z = zscore(z)\n",
    "    req_freq = np.arange(5,125,width)\n",
    "    return SPM_features(z,y,req_freq,width)\n",
    "\n",
    "def make_features(channel_data):\n",
    "    return TD(channel_data)+SPM(channel_data)\n",
    "\n",
    "def opt_clf(X, y, params, clf, key, key2=None,key2_arg=None, key3=None,key3_arg=None):\n",
    "    acc_log = []\n",
    "    args = {}\n",
    "    for lambda_ in params:\n",
    "        args[key] = lambda_\n",
    "        if key2 == None:\n",
    "            classifier = clf(**args)\n",
    "        else:\n",
    "            for i, k in enumerate(key2):\n",
    "                args[k] = key2_arg[i]\n",
    "            classifier = clf(**args)\n",
    "        # Split the data into a training set and a test set\n",
    "        X_train, X_test, y_train, y_test = train_test_split(X, y, random_state=random.randint(0,100))\n",
    "        # Run classifier\n",
    "        y_pred = classifier.fit(X_train, y_train).predict(X_test)\n",
    "        y_pred_train = classifier.fit(X_train, y_train).predict(X_train)\n",
    "        y_pred = [x if x < 6 else 0 for x in y_pred]\n",
    "        y_test = [x if x < 6 else 0 for x in y_test]\n",
    "        y_pred_train = [x if x < 6 else 0 for x in y_pred_train]\n",
    "        y_train = [x if x < 6 else 0 for x in y_train]\n",
    "        print 'Accuracy for {}: Testing {}, Training {}'.format(lambda_, accuracy(y_test,y_pred), accuracy(y_train,y_pred_train))\n",
    "        acc_log.append(accuracy(y_test,y_pred))\n",
    "        \n",
    "    axes = plt.gca()\n",
    "    axes.scatter(params,acc_log)\n",
    "    axes.set_xlim(min(params)-1,max(params)+1)\n",
    "    # training with the best params\n",
    "    max_index, max_value = max(enumerate(acc_log), key=operator.itemgetter(1))\n",
    "    param = params[max_index]\n",
    "    args[key] = param\n",
    "    classifier = clf(**args)\n",
    "    scores = cross_val_score(classifier, X, y, cv=5,n_jobs = -1)\n",
    "    print \"Cross-validation scores\", scores\n",
    "    X_train, X_test, y_train, y_test = train_test_split(X, y, random_state=random.randint(0,100))\n",
    "    # Run classifier\n",
    "    y_pred = classifier.fit(X_train, y_train).predict(X_test)\n",
    "    y_pred = [x if x < 6 else 0 for x in y_pred]\n",
    "    y_test = [x if x < 6 else 0 for x in y_test]\n",
    "    # Compute confusion matrix\n",
    "    class_names_d = ['None','Thumb','Index','Middle','Ring','Pinky']\n",
    "    class_names = [0, 1, 2, 3, 4, 5]\n",
    "    cnf_matrix = confusion_matrix(y_test, y_pred, labels = class_names)\n",
    "    np.set_printoptions(precision=2)\n",
    "    # Plot non-normalized confusion matrix\n",
    "    plt.figure()\n",
    "    plot_confusion_matrix(cnf_matrix, classes=class_names_d,\n",
    "                          title='Confusion matrix, without normalization')\n",
    "    # Plot normalized confusion matrix\n",
    "    plt.figure()\n",
    "    plot_confusion_matrix(cnf_matrix, classes=class_names_d, normalize=True,\n",
    "                          title='Normalized confusion matrix')\n",
    "    return classifier\n",
    "    \n",
    "\n"
   ]
  },
  {
   "cell_type": "code",
   "execution_count": 2,
   "metadata": {},
   "outputs": [
    {
     "name": "stderr",
     "output_type": "stream",
     "text": [
      "/usr/local/lib/python2.7/dist-packages/ipykernel/__main__.py:6: FutureWarning: sort(columns=....) is deprecated, use sort_values(by=.....)\n"
     ]
    },
    {
     "name": "stdout",
     "output_type": "stream",
     "text": [
      "CPU times: user 6.01 s, sys: 288 ms, total: 6.3 s\n",
      "Wall time: 6.19 s\n"
     ]
    }
   ],
   "source": [
    "%%time\n",
    "# loading the data\n",
    "path =r'data_250' # use your path\n",
    "frame = load_data(path)\n",
    "\n",
    "# data pre-processing\n",
    "frame.sort(columns='time', axis=0, ascending=True, inplace=True, kind='quicksort', na_position='last')\n",
    "frame.reset_index(inplace = True)\n",
    "del frame['index']\n",
    "label = frame['label']\n",
    "X = np.array([frame['chan4_thumb'].tolist(), frame['chan5_index'].tolist(), frame['chan6_middle'].tolist(),\\\n",
    " frame['chan7_ring'].tolist(), frame['chan8_pinky'].tolist()])\n",
    "shape = np.shape(X)\n",
    "X = np.array(X).reshape((shape[1],shape[0]))\n",
    "Y = label\n",
    "current_label = 9\n",
    "start_window = -1\n",
    "\n",
    "start_end = []\n",
    "\n",
    "# for i,x in enumerate(frame.label):\n",
    "#     if current_label != x:\n",
    "#         current_label = x\n",
    "#         if start_window == -1:\n",
    "#             start_window = i\n",
    "#         else:\n",
    "#             start_end.append((start_window,i,frame.label[i-1]))\n",
    "#             start_window = i\n",
    "\n",
    "list1 = np.arange(0,frame.shape[0],250)\n",
    "starts = list1[:-1]\n",
    "ends = list1[1:]\n",
    "for i, start in enumerate(starts):\n",
    "    c = Counter(frame.label[start:ends[i]])\n",
    "    start_end.append((start,ends[i],c.most_common()[0][0]))\n",
    "\n",
    "data_points = []\n",
    "\n",
    "for tup in start_end:\n",
    "    data_points.append([frame.chan4_thumb[tup[0]:tup[1]].tolist(),frame.chan5_index[tup[0]:tup[1]].tolist(),\\\n",
    "        frame.chan6_middle[tup[0]:tup[1]].tolist(),frame.chan7_ring[tup[0]:tup[1]].tolist(),frame.chan8_pinky[tup[0]:tup[1]].tolist(),tup[2]])"
   ]
  },
  {
   "cell_type": "code",
   "execution_count": 3,
   "metadata": {},
   "outputs": [
    {
     "name": "stderr",
     "output_type": "stream",
     "text": [
      "/usr/local/lib/python2.7/dist-packages/scipy/stats/stats.py:2240: RuntimeWarning: invalid value encountered in true_divide\n",
      "  return (a - mns) / sstd\n"
     ]
    },
    {
     "name": "stdout",
     "output_type": "stream",
     "text": [
      "CPU times: user 1min 54s, sys: 324 ms, total: 1min 54s\n",
      "Wall time: 1min 54s\n"
     ]
    }
   ],
   "source": [
    "%%time\n",
    "# feature extraction\n",
    "data = []\n",
    "Y = []\n",
    "for i, data_point in enumerate(data_points):\n",
    "    data.append(map(make_features,data_point[0:5]))\n",
    "    Y.append(data_point[5])\n",
    "    \n",
    "# relabeling data\n",
    "# Y = relabel(Y)\n",
    "# class_names = [1,2,3,4,5,6,7,8,9,10]"
   ]
  },
  {
   "cell_type": "code",
   "execution_count": 4,
   "metadata": {},
   "outputs": [
    {
     "name": "stdout",
     "output_type": "stream",
     "text": [
      "CPU times: user 360 ms, sys: 4 ms, total: 364 ms\n",
      "Wall time: 363 ms\n"
     ]
    }
   ],
   "source": [
    "%%time\n",
    "data = np.array(data)\n",
    "shape = np.shape(data)\n",
    "data = np.reshape(data,(shape[0],shape[1]*shape[2]))"
   ]
  },
  {
   "cell_type": "code",
   "execution_count": 5,
   "metadata": {},
   "outputs": [
    {
     "name": "stdout",
     "output_type": "stream",
     "text": [
      "CPU times: user 84 ms, sys: 24 ms, total: 108 ms\n",
      "Wall time: 106 ms\n"
     ]
    }
   ],
   "source": [
    "%%time\n",
    "X = zscore(data[~np.isnan(data).any(axis=1)])\n",
    "y = np.array(Y)[~np.isnan(data).any(axis=1)]"
   ]
  },
  {
   "cell_type": "code",
   "execution_count": 11,
   "metadata": {},
   "outputs": [
    {
     "name": "stdout",
     "output_type": "stream",
     "text": [
      "Accuracy for 1: Testing 0.329537366548, Training 0.280018984338\n",
      "Accuracy for 2: Testing 0.461921708185, Training 0.479591836735\n",
      "Accuracy for 3: Testing 0.506761565836, Training 0.521594684385\n",
      "Accuracy for 4: Testing 0.501067615658, Training 0.56858092074\n",
      "Accuracy for 5: Testing 0.540213523132, Training 0.614855244423\n",
      "Accuracy for 6: Testing 0.52384341637, Training 0.675842429995\n",
      "Accuracy for 7: Testing 0.611387900356, Training 0.778832463218\n",
      "Accuracy for 8: Testing 0.619928825623, Training 0.855007119127\n",
      "Accuracy for 9: Testing 0.623487544484, Training 0.9397247271\n",
      "Accuracy for 10: Testing 0.634163701068, Training 0.977693402943\n",
      "Accuracy for 11: Testing 0.652669039146, Training 0.990033222591\n",
      "Accuracy for 12: Testing 0.668327402135, Training 0.99881347888\n",
      "Accuracy for 13: Testing 0.623487544484, Training 1.0\n",
      "Accuracy for 14: Testing 0.64128113879, Training 1.0\n",
      "Accuracy for 15: Testing 0.64128113879, Training 1.0\n",
      "Accuracy for 16: Testing 0.639145907473, Training 1.0\n",
      "Accuracy for 17: Testing 0.641992882562, Training 1.0\n",
      "Accuracy for 18: Testing 0.64128113879, Training 1.0\n",
      "Accuracy for 19: Testing 0.641992882562, Training 1.0\n",
      "Accuracy for 20: Testing 0.643416370107, Training 1.0\n",
      "Cross-validation scores [ 0.5   0.32  0.45  0.63  0.62]\n",
      "Confusion matrix, without normalization\n",
      "[[872   8   2   1   2   0]\n",
      " [148  12   1   0   1   0]\n",
      " [103   1   4   0   1   0]\n",
      " [ 72   0   0   5   0   0]\n",
      " [ 79   0   0   0   5   0]\n",
      " [ 88   0   0   0   0   0]]\n",
      "Normalized confusion matrix\n",
      "[[ 0.99  0.01  0.    0.    0.    0.  ]\n",
      " [ 0.91  0.07  0.01  0.    0.01  0.  ]\n",
      " [ 0.94  0.01  0.04  0.    0.01  0.  ]\n",
      " [ 0.94  0.    0.    0.06  0.    0.  ]\n",
      " [ 0.94  0.    0.    0.    0.06  0.  ]\n",
      " [ 1.    0.    0.    0.    0.    0.  ]]\n",
      "Accuracy for 1: Testing 0.106761565836, Training 0.179164689131\n",
      "Accuracy for 2: Testing 0.435587188612, Training 0.466540104414\n",
      "Accuracy for 3: Testing 0.513167259786, Training 0.525154247746\n",
      "Accuracy for 4: Testing 0.47615658363, Training 0.509966777409\n",
      "Accuracy for 5: Testing 0.523131672598, Training 0.623872804936\n",
      "Accuracy for 6: Testing 0.540213523132, Training 0.666350261035\n",
      "Accuracy for 7: Testing 0.516725978648, Training 0.74466065496\n",
      "Accuracy for 8: Testing 0.562989323843, Training 0.815851922164\n",
      "Accuracy for 9: Testing 0.590747330961, Training 0.886093972473\n",
      "Accuracy for 10: Testing 0.627758007117, Training 0.936402467964\n",
      "Accuracy for 11: Testing 0.637010676157, Training 0.973896535358\n",
      "Accuracy for 12: Testing 0.624911032028, Training 0.975320360702\n",
      "Accuracy for 13: Testing 0.632028469751, Training 0.990745135263\n",
      "Accuracy for 14: Testing 0.645551601423, Training 0.9940673944\n",
      "Accuracy for 15: Testing 0.645551601423, Training 0.994304698624\n",
      "Accuracy for 16: Testing 0.626334519573, Training 0.996203132416\n",
      "Accuracy for 17: Testing 0.624911032028, Training 0.998338870432\n",
      "Accuracy for 18: Testing 0.646263345196, Training 0.996915045088\n",
      "Accuracy for 19: Testing 0.629181494662, Training 0.998576174656\n",
      "Accuracy for 20: Testing 0.63487544484, Training 0.998576174656\n",
      "Cross-validation scores [ 0.53  0.39  0.48  0.6   0.62]\n",
      "Confusion matrix, without normalization\n",
      "[[875  12   1   0   2   0]\n",
      " [145  17   0   2   0   0]\n",
      " [102   3   5   0   0   0]\n",
      " [ 84   0   0   5   1   0]\n",
      " [ 77   1   0   0   2   0]\n",
      " [ 70   1   0   0   0   0]]\n",
      "Normalized confusion matrix\n",
      "[[ 0.98  0.01  0.    0.    0.    0.  ]\n",
      " [ 0.88  0.1   0.    0.01  0.    0.  ]\n",
      " [ 0.93  0.03  0.05  0.    0.    0.  ]\n",
      " [ 0.93  0.    0.    0.06  0.01  0.  ]\n",
      " [ 0.96  0.01  0.    0.    0.03  0.  ]\n",
      " [ 0.99  0.01  0.    0.    0.    0.  ]]\n"
     ]
    }
   ],
   "source": [
    "# %%time\n",
    "trees = [2,3,4,5,10, 20, 30, 40, 50, 60]\n",
    "layers = [(10,),(20,),(30,),(40,),(50,),(100,)]\n",
    "reg = [.5,1,1.5,2,2.5,3,3.5]\n",
    "# neighbors = [1,2,3,4,5,6]\n",
    "Cs = [.75]\n",
    "depth = [1,2,3,4,5,6,7,8,9,10,11,12,13,14,15,16,17,18,19,20]\n",
    "# pca = PCA(n_components=300)\n",
    "# X_pcaed = pca.fit_transform(X)\n",
    "clf = opt_clf(X, y, depth, RandomForestClassifier, 'max_depth',['n_estimators','n_jobs','class_weight'],[25,-1,{0:.1,1:.4,2:.6,3:1,4:1,5:1}])\n",
    "# opt_clf(X, y, reg, MLPClassifier, 'alpha',['hidden_layer_sizes'],[(1,300)])\n",
    "# clf = opt_clf(X, y, Cs, SVC, 'C',['class_weight','kernel'],['balanced','poly'])\n",
    "plt.show()\n",
    "# # test_clf(X, y, depth, DecisionTreeClassifier, 'max_depth', i)\n",
    "# # test_clf(X, y, Cs, LogisticRegression, 'C', i)"
   ]
  },
  {
   "cell_type": "code",
   "execution_count": 20,
   "metadata": {},
   "outputs": [
    {
     "data": {
      "text/plain": [
       "25"
      ]
     },
     "execution_count": 20,
     "metadata": {},
     "output_type": "execute_result"
    }
   ],
   "source": [
    "clf.estimators_[20].tree_.max_depth"
   ]
  },
  {
   "cell_type": "code",
   "execution_count": 48,
   "metadata": {},
   "outputs": [
    {
     "data": {
      "text/plain": [
       "(5619, 665)"
      ]
     },
     "execution_count": 48,
     "metadata": {},
     "output_type": "execute_result"
    }
   ],
   "source": [
    "X.shape"
   ]
  },
  {
   "cell_type": "code",
   "execution_count": 7,
   "metadata": {},
   "outputs": [
    {
     "data": {
      "text/plain": [
       "array([ 0.,  1.,  2.,  3.,  4.,  5.])"
      ]
     },
     "execution_count": 7,
     "metadata": {},
     "output_type": "execute_result"
    }
   ],
   "source": [
    "clf.classes_"
   ]
  },
  {
   "cell_type": "code",
   "execution_count": 20,
   "metadata": {},
   "outputs": [],
   "source": []
  },
  {
   "cell_type": "code",
   "execution_count": null,
   "metadata": {},
   "outputs": [],
   "source": []
  }
 ],
 "metadata": {
  "kernelspec": {
   "display_name": "Python 2",
   "language": "python",
   "name": "python2"
  },
  "language_info": {
   "codemirror_mode": {
    "name": "ipython",
    "version": 2
   },
   "file_extension": ".py",
   "mimetype": "text/x-python",
   "name": "python",
   "nbconvert_exporter": "python",
   "pygments_lexer": "ipython2",
   "version": "2.7.6"
  }
 },
 "nbformat": 4,
 "nbformat_minor": 0
}
